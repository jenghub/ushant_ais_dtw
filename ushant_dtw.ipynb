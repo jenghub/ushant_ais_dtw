{
 "cells": [
  {
   "cell_type": "code",
   "execution_count": 1,
   "metadata": {
    "collapsed": true
   },
   "outputs": [],
   "source": [
    "from ast import literal_eval\n",
    "import pandas as pd\n",
    "import numpy as np\n",
    "from dtw_helper import pad_trajectory, get_dtw_matrix, get_most_similar_path_idx"
   ]
  },
  {
   "cell_type": "markdown",
   "source": [
    "This notebook runs through using DTW on vessel trajectory data from:\n",
    "https://github.com/rtavenar/ushant_ais"
   ],
   "metadata": {
    "collapsed": false,
    "pycharm": {
     "name": "#%% md\n"
    }
   }
  },
  {
   "cell_type": "code",
   "execution_count": 2,
   "outputs": [
    {
     "data": {
      "text/plain": "  trip_id                                      traj_long_lat  \\\n0       0  [(-6.18798333333333, 47.952475), (-6.180265, 4...   \n1       1  [(-5.43166666666667, 47.9118), (-5.42048333333...   \n2       2  [(-5.9475, 48.4583333333333), (-5.932333333333...   \n3       3  [(-6.18810666666667, 48.04698), (-6.1539083333...   \n4       4  [(-5.2845, 47.961), (-5.28816666666667, 47.973...   \n\n                                       traj_lat_long  avg_x_velocty  \\\n0  [(47.952475, -6.18798333333333), (47.962325, -...      12.342419   \n1  [(47.9118, -5.43166666666667), (47.92325, -5.4...       8.060086   \n2  [(48.4583333333333, -5.9475), (48.474333333333...       9.532705   \n3  [(48.04698, -6.18810666666667), (48.0904383333...       9.658843   \n4  [(47.961, -5.2845), (47.9738333333333, -5.2881...       7.420555   \n\n   avg_y_velocity  total_duration_seconds  num_obs  \n0       13.447280                 19543.0      128  \n1        6.517485                 17788.0      106  \n2        7.132149                 21546.0      124  \n3        8.952779                 20978.0       95  \n4       19.707497                 11249.0       77  ",
      "text/html": "<div>\n<style scoped>\n    .dataframe tbody tr th:only-of-type {\n        vertical-align: middle;\n    }\n\n    .dataframe tbody tr th {\n        vertical-align: top;\n    }\n\n    .dataframe thead th {\n        text-align: right;\n    }\n</style>\n<table border=\"1\" class=\"dataframe\">\n  <thead>\n    <tr style=\"text-align: right;\">\n      <th></th>\n      <th>trip_id</th>\n      <th>traj_long_lat</th>\n      <th>traj_lat_long</th>\n      <th>avg_x_velocty</th>\n      <th>avg_y_velocity</th>\n      <th>total_duration_seconds</th>\n      <th>num_obs</th>\n    </tr>\n  </thead>\n  <tbody>\n    <tr>\n      <th>0</th>\n      <td>0</td>\n      <td>[(-6.18798333333333, 47.952475), (-6.180265, 4...</td>\n      <td>[(47.952475, -6.18798333333333), (47.962325, -...</td>\n      <td>12.342419</td>\n      <td>13.447280</td>\n      <td>19543.0</td>\n      <td>128</td>\n    </tr>\n    <tr>\n      <th>1</th>\n      <td>1</td>\n      <td>[(-5.43166666666667, 47.9118), (-5.42048333333...</td>\n      <td>[(47.9118, -5.43166666666667), (47.92325, -5.4...</td>\n      <td>8.060086</td>\n      <td>6.517485</td>\n      <td>17788.0</td>\n      <td>106</td>\n    </tr>\n    <tr>\n      <th>2</th>\n      <td>2</td>\n      <td>[(-5.9475, 48.4583333333333), (-5.932333333333...</td>\n      <td>[(48.4583333333333, -5.9475), (48.474333333333...</td>\n      <td>9.532705</td>\n      <td>7.132149</td>\n      <td>21546.0</td>\n      <td>124</td>\n    </tr>\n    <tr>\n      <th>3</th>\n      <td>3</td>\n      <td>[(-6.18810666666667, 48.04698), (-6.1539083333...</td>\n      <td>[(48.04698, -6.18810666666667), (48.0904383333...</td>\n      <td>9.658843</td>\n      <td>8.952779</td>\n      <td>20978.0</td>\n      <td>95</td>\n    </tr>\n    <tr>\n      <th>4</th>\n      <td>4</td>\n      <td>[(-5.2845, 47.961), (-5.28816666666667, 47.973...</td>\n      <td>[(47.961, -5.2845), (47.9738333333333, -5.2881...</td>\n      <td>7.420555</td>\n      <td>19.707497</td>\n      <td>11249.0</td>\n      <td>77</td>\n    </tr>\n  </tbody>\n</table>\n</div>"
     },
     "execution_count": 2,
     "metadata": {},
     "output_type": "execute_result"
    }
   ],
   "source": [
    "df = pd.read_pickle(\"ushant_trajectories.pkl\")\n",
    "df[\"num_obs\"] = df[\"traj_lat_long\"].str.len() # grab number of lat-long in traject\n",
    "df.head()"
   ],
   "metadata": {
    "collapsed": false,
    "pycharm": {
     "name": "#%%\n"
    }
   }
  },
  {
   "cell_type": "markdown",
   "source": [
    "Grab the DTW matrix on a sample. Using a max-length trajectory of 48 gives us a manageable 10% of the dataset."
   ],
   "metadata": {
    "collapsed": false,
    "pycharm": {
     "name": "#%% md\n"
    }
   }
  },
  {
   "cell_type": "code",
   "execution_count": 4,
   "outputs": [
    {
     "name": "stderr",
     "output_type": "stream",
     "text": [
      "/Users/justinjeng/my_env/lib/python3.7/site-packages/ipykernel_launcher.py:6: SettingWithCopyWarning: \n",
      "A value is trying to be set on a copy of a slice from a DataFrame.\n",
      "Try using .loc[row_indexer,col_indexer] = value instead\n",
      "\n",
      "See the caveats in the documentation: https://pandas.pydata.org/pandas-docs/stable/user_guide/indexing.html#returning-a-view-versus-a-copy\n",
      "  \n"
     ]
    },
    {
     "name": "stdout",
     "output_type": "stream",
     "text": [
      "finished computing DTW matrix\n",
      "(1835, 1835)\n"
     ]
    }
   ],
   "source": [
    "# take 10 percent of the dataset\n",
    "df_10p = df[df[\"num_obs\"]<48]\n",
    "\n",
    "# pad trajectory (lat, long) column\n",
    "max_length = 48\n",
    "df_10p['traj_lat_long_padded']= df_10p['traj_lat_long'].apply(lambda x: pad_trajectory(x, max_length=max_length))\n",
    "\n",
    "# grab DTW matrix\n",
    "dist_mat = get_dtw_matrix(df_10p['traj_lat_long_padded']) # pass in the pandas column containing padded trajectory coords\n",
    "\n",
    "# save it\n",
    "np.save(open('ushant_dtw_matrix.dat','wb'), dist_mat, allow_pickle=False)\n",
    "\n",
    "# convert dtw numpy matrix to pandas df if necessary\n",
    "dist_mat_df = pd.DataFrame(dist_mat)\n",
    "\n",
    "dist_mat_df"
   ],
   "metadata": {
    "collapsed": false,
    "pycharm": {
     "name": "#%%\n"
    }
   }
  }
 ],
 "metadata": {
  "kernelspec": {
   "display_name": "Python 3",
   "language": "python",
   "name": "python3"
  },
  "language_info": {
   "codemirror_mode": {
    "name": "ipython",
    "version": 2
   },
   "file_extension": ".py",
   "mimetype": "text/x-python",
   "name": "python",
   "nbconvert_exporter": "python",
   "pygments_lexer": "ipython2",
   "version": "2.7.6"
  }
 },
 "nbformat": 4,
 "nbformat_minor": 0
}